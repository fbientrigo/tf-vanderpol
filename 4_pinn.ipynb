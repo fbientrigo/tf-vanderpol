{
 "cells": [
  {
   "cell_type": "code",
   "execution_count": null,
   "metadata": {},
   "outputs": [],
   "source": [
    "import numpy as np\n",
    "import tensorflow as tf\n",
    "from tensorflow.keras import layers\n",
    "import matplotlib.pyplot as plt\n",
    "import functools"
   ]
  },
  {
   "cell_type": "code",
   "execution_count": null,
   "metadata": {},
   "outputs": [],
   "source": [
    "# leer las trayectorias generadas\n",
    "import h5py\n",
    "\n",
    "data_file = \"trayectorias.h5\"\n",
    "\n",
    "with h5py.File(data_file, \"r\") as hf:\n",
    "    trayectorias = hf[\"trayectorias\"][:]\n",
    "\n",
    "# Asegúrate de que las trayectorias se ajusten a tus necesidades específicas\n",
    "# Si es necesario, puedes transformar los datos en tensores TensorFlow\n",
    "trayectorias = tf.constant(trayectorias, dtype=tf.float32)\n",
    "trayectorias"
   ]
  },
  {
   "cell_type": "code",
   "execution_count": null,
   "metadata": {},
   "outputs": [],
   "source": [
    "# n_particula, (posicion,velocidad), tiempo\n",
    "trayectorias.shape\n",
    "#TensorShape([300,2,300])"
   ]
  },
  {
   "cell_type": "code",
   "execution_count": null,
   "metadata": {},
   "outputs": [],
   "source": [
    "def plot_trayectoria(trayectorias, N):\n",
    "    plt.figure(figsize=(5, 3))\n",
    "    if len(trayectorias.shape) == 2:\n",
    "        print('one data point')\n",
    "        plt.plot(trayectorias[0], trayectorias[1], alpha=0.6)\n",
    "\n",
    "    else:\n",
    "        for i in range(N):\n",
    "            plt.plot(trayectorias[i][0], trayectorias[i][1], alpha=0.6)\n",
    "    plt.xlabel(r'$\\psi$')\n",
    "    plt.ylabel(r'$\\omega$')\n",
    "    plt.title('Trayectorias de las Partículas')\n",
    "    plt.grid()\n",
    "    plt.show()\n",
    "\n",
    "plot_trayectoria(trayectorias, 3)"
   ]
  },
  {
   "cell_type": "code",
   "execution_count": null,
   "metadata": {},
   "outputs": [],
   "source": [
    "trayectorias"
   ]
  },
  {
   "cell_type": "markdown",
   "metadata": {},
   "source": [
    "# ordenamiento de los datos"
   ]
  },
  {
   "cell_type": "code",
   "execution_count": null,
   "metadata": {},
   "outputs": [],
   "source": [
    "# shape: TensorShape([300, 2, 300])\n",
    "dataset = tf.data.Dataset.from_tensor_slices(trayectorias)\n",
    "\n",
    "# Determina los tamaños de tus conjuntos de datos\n",
    "size = tf.data.experimental.cardinality(dataset).numpy()\n",
    "print(\"Total de datos: \", size)\n",
    "train_size = int(0.7 * size)\n",
    "val_size = int(0.15 * size)\n",
    "test_size = int(0.15 * size)\n",
    "\n",
    "# Mezcla tus datos\n",
    "dataset = dataset.shuffle(size)\n",
    "\n",
    "# Divide tus datos en conjuntos de entrenamiento, validación y prueba\n",
    "train_data = dataset.take(train_size)\n",
    "remaining = dataset.skip(train_size)\n",
    "val_data = remaining.take(val_size)\n",
    "test_data = remaining.skip(val_size)\n",
    "\n",
    "print('\\ttraining size: ', len(train_data))\n",
    "print('\\tvalidation size: ', len(val_data))\n",
    "print('\\ttesting size: ', len(test_data))\n",
    "\n",
    "# Para obtener el primer elemento\n",
    "# first_data = next(iter(dataset.take(1)))\n",
    "# second_data = next(iter(dataset.skip(1).take(1)))\n",
    "\n",
    "# print(\"Forma de un solo dato: \", first_data.shape)\n",
    "\n",
    "# Convertir train_data a un tensor\n",
    "train_data_tensor = tf.concat(list(train_data), axis=0)\n",
    "\n",
    "# Imprimir la forma del tensor de entrenamiento\n",
    "print(\"Forma del tensor de entrenamiento: \", train_data_tensor.shape)\n",
    "\n",
    "# Imprimir el tensor de entrenamiento\n",
    "print(\"Tensor de entrenamiento: \")\n",
    "print(train_data_tensor)\n"
   ]
  },
  {
   "cell_type": "markdown",
   "metadata": {},
   "source": [
    "forma altermativa de ordenar los datos, tener los inputs y outputs separados,\n",
    "de manera de utilizar:\n",
    "\n",
    "```\n",
    "model.fit(\n",
    "    X_train, Y_train, validation_data=(X_valid, Y_valid) \n",
    "         )\n",
    "```"
   ]
  },
  {
   "cell_type": "code",
   "execution_count": null,
   "metadata": {},
   "outputs": [],
   "source": [
    "# Separar en train, valid, test\n",
    "train_data = trayectorias[:210, :, :]\n",
    "val_data = trayectorias[210:255, :, :]\n",
    "test_data = trayectorias[255:, :, :]\n",
    "\n",
    "# Imprimir las formas de los conjuntos de datos\n",
    "print(\"Forma del conjunto de entrenamiento: \", train_data.shape)\n",
    "print(\"Forma del conjunto de validación: \", val_data.shape)\n",
    "print(\"Forma del conjunto de prueba: \", test_data.shape)\n",
    "\n",
    "# Obtener tensores X_train, P_train, X_valid, P_valid\n",
    "X_train = train_data[:, 0, :]\n",
    "P_train = train_data[:, 1, :]\n",
    "X_valid = val_data[:, 0, :]\n",
    "P_valid = val_data[:, 1, :]\n",
    "X_test = test_data[:, 0, :]\n",
    "P_test = test_data[:, 1, :]\n",
    "\n",
    "# Imprimir las formas de los tensores\n",
    "print(\"Forma de X_train: \", X_train.shape)\n",
    "print(\"Forma de P_train: \", P_train.shape)\n",
    "\n",
    "plot_trayectoria(train_data, 210)"
   ]
  },
  {
   "cell_type": "markdown",
   "metadata": {},
   "source": [
    "# El modelo"
   ]
  },
  {
   "cell_type": "markdown",
   "metadata": {},
   "source": [
    "Debido a que este modelo utiliza condiciones iniciales y no las toma como input, significa que el modelo habrá de aprender estas condiciones iniciales,\n",
    "por tanto solo puede aprender de una curva a la vez\n"
   ]
  },
  {
   "cell_type": "code",
   "execution_count": null,
   "metadata": {},
   "outputs": [],
   "source": [
    "import tensorflow as tf\n",
    "from tensorflow.keras import layers, optimizers, metrics\n",
    "\n",
    "class VanderPolModel(tf.keras.Model):\n",
    "    \"\"\"Modelo de vanderPol, toma la input de tiempo\"\"\"\n",
    "    def __init__(self, activation=\"tanh\",**kwargs):\n",
    "        super().__init__(**kwargs)\n",
    "\n",
    "        self.hidden1 = layers.Dense(64, activation=activation)\n",
    "        self.hidden2 = layers.Dense(64, activation=activation)\n",
    "        self.hidden3 = layers.Dense(64, activation=activation)\n",
    "        self.hidden4 = layers.Dense(64, activation=activation)\n",
    "        self.position = layers.Dense(1, activation=activation)\n",
    "\n",
    "    def call(self, inputs):\n",
    "        inputs_expanded = tf.expand_dims(inputs, axis=-1) \n",
    "        z = self.hidden1(inputs_expanded)\n",
    "        z = self.hidden2(z)\n",
    "        z = self.hidden3(z)\n",
    "        z = self.hidden4(z)\n",
    "        x = self.position(z)\n",
    "        return x"
   ]
  },
  {
   "cell_type": "code",
   "execution_count": null,
   "metadata": {},
   "outputs": [],
   "source": [
    "t = tf.range(300, dtype=tf.float32)"
   ]
  },
  {
   "cell_type": "code",
   "execution_count": null,
   "metadata": {},
   "outputs": [],
   "source": [
    "@tf.function\n",
    "def physics_loss(y_true, y_pred, model, inputs, X_target, P_target, params):\n",
    "    mu = params.get('mu', 2.0)\n",
    "    position_weight = params.get('position_weight', 10)\n",
    "    momentum_weight = params.get('momentum_weight', 5)\n",
    "    data_weight = params.get('data_weight', 1)\n",
    "    phys_weight = params.get('phys_weight', 1)\n",
    "\n",
    "    inputs = tf.expand_dims(inputs, axis=-1)\n",
    "\n",
    "    with tf.GradientTape(persistent=True) as tape:\n",
    "        tape.watch(inputs)\n",
    "        X_predicted = model(inputs)\n",
    "        dx_dt = tape.gradient(X_predicted, inputs)\n",
    "        d2x_dt2 = tape.gradient(dx_dt, inputs)\n",
    "\n",
    "    f = d2x_dt2 - mu * (1 - tf.square(X_predicted)) * dx_dt + X_predicted\n",
    "    \n",
    "    # Physics loss\n",
    "    position_loss = tf.reduce_mean(tf.square(X_target[0] - X_predicted[0]))\n",
    "    momentum_loss = tf.reduce_mean(tf.square(P_target[0] - dx_dt[0]))\n",
    "    \n",
    "    loss = phys_weight * tf.reduce_mean(tf.square(f))\n",
    "    loss += position_weight * position_loss\n",
    "    loss += momentum_weight * momentum_loss\n",
    "    \n",
    "    # Data loss (optional, depending on your needs)\n",
    "    # data_loss = data_weight * tf.reduce_mean(tf.square(y_true - y_pred))\n",
    "    # loss += data_loss\n",
    "    \n",
    "    return loss\n"
   ]
  },
  {
   "cell_type": "code",
   "execution_count": null,
   "metadata": {},
   "outputs": [],
   "source": [
    "def train(model, inputs, targets, params, optimizer, epochs=100, batch_size=32):\n",
    "    # Compile the model with the partial physics loss function\n",
    "    X_target = targets[0]\n",
    "    P_target = targets[1]\n",
    "\n",
    "    partial_physics_loss = functools.partial(physics_loss, model=model, \n",
    "        X_target=X_target, P_target=P_target, params=params)\n",
    "    model.compile(optimizer=optimizer, loss=partial_physics_loss)\n",
    "\n",
    "    # Train the model\n",
    "    history = model.fit(inputs, X_target, epochs=epochs, batch_size=batch_size)\n",
    "\n",
    "    return history\n"
   ]
  },
  {
   "cell_type": "code",
   "execution_count": null,
   "metadata": {},
   "outputs": [],
   "source": [
    "params = {'mu': 2.0, 'position_weight': 10.0, 'momentum_weight': 5.0, 'phys_weight': 1.0}\n",
    "model = VanderPolModel()\n",
    "inputs = t\n",
    "history = train(model, inputs, [X_train[0], P_train[0]], params, optimizer=optimizers.Adam(learning_rate=0.0001))\n"
   ]
  },
  {
   "cell_type": "code",
   "execution_count": null,
   "metadata": {},
   "outputs": [],
   "source": []
  },
  {
   "cell_type": "code",
   "execution_count": null,
   "metadata": {},
   "outputs": [],
   "source": [
    "# Compilar el modelo con la función de pérdida parcial\n",
    "model.compile(optimizer=optimizer, loss=partial_physics_loss)\n",
    "\n",
    "# Entrenar el modelo\n",
    "history = model.fit(inputs, [X_train[0], P_train[0]], epochs=100, batch_size=32)"
   ]
  },
  {
   "cell_type": "code",
   "execution_count": null,
   "metadata": {},
   "outputs": [],
   "source": [
    "physics_loss_metric = metrics.Mean('physics_loss', dtype=tf.float32)\n",
    "position_loss_metric = metrics.Mean('position_loss', dtype=tf.float32)\n",
    "momentum_loss_metric = metrics.Mean('momentum_loss', dtype=tf.float32)\n",
    "\n",
    "\n",
    "def physics_loss(X_target, P_target, X_predicted, dx_dt, mu=2.0, position_weight=10, momentum_weight=5):\n",
    "    # Calcular las pérdidas individuales\n",
    "    physics_loss = tf.reduce_mean(tf.square(X_target[0] - X_predicted[0]))\n",
    "    position_loss = tf.reduce_mean(tf.square(X_target[0] - X_predicted[0]))\n",
    "    momentum_loss = tf.reduce_mean(tf.square(P_target[0] - dx_dt[0]))\n",
    "\n",
    "    physics_loss_metric.update_state(physics_loss)\n",
    "    position_loss_metric.update_state(position_loss)\n",
    "    momentum_loss_metric.update_state(momentum_loss)\n",
    "\n",
    "    # Devuelve la suma ponderada de las pérdidas\n",
    "    return physics_loss + position_weight * position_loss + momentum_weight * momentum_loss\n",
    "\n",
    "# Crear función parcial con los argumentos específicos\n",
    "partial_physics_loss = functools.partial(physics_loss, X_train, P_train)\n",
    "\n",
    "# Compilar el modelo con la función de pérdida parcial\n",
    "model.compile(optimizer=optimizer.adam(), loss=partial_physics_loss)\n",
    "\n",
    "# Entrenar el modelo\n",
    "history = model.fit(inputs, [X_train[0], P_train[0]], epochs=100, batch_size=32)\n"
   ]
  },
  {
   "cell_type": "code",
   "execution_count": null,
   "metadata": {},
   "outputs": [],
   "source": [
    "# Compilar el modelo con múltiples funciones de pérdida\n",
    "model = VanderPolModel()\n",
    "inputs = t\n",
    "\n",
    "\n",
    "# Crear función parcial con los argumentos específicos\n",
    "partial_physics_loss = functools.partial(physics_loss, X_train, P_train)\n",
    "\n",
    "optimizer = optimizers.Adam(learning_rate=1e-3)\n",
    "model.compile(optimizer=optimizer, loss=partial_physics_loss, \n",
    "    metrics=[physics_loss_metric, position_loss_metric,momentum_loss_metric])\n",
    "\n",
    "\n",
    "# Entrenar el modelo con tus datos (asegúrate de tener X_train y P_train preparados)\n",
    "history = model.fit(inputs, [X_train[0], P_train[0]], epochs=100, batch_size=32)\n",
    "\n"
   ]
  },
  {
   "cell_type": "code",
   "execution_count": null,
   "metadata": {},
   "outputs": [],
   "source": [
    "print(history.history.keys())"
   ]
  },
  {
   "cell_type": "code",
   "execution_count": null,
   "metadata": {},
   "outputs": [],
   "source": [
    "import pandas as pd\n",
    "\n",
    "pd.DataFrame(history.history)"
   ]
  },
  {
   "cell_type": "code",
   "execution_count": null,
   "metadata": {},
   "outputs": [],
   "source": []
  },
  {
   "cell_type": "markdown",
   "metadata": {},
   "source": [
    "# Modelo Multi Curva\n",
    "El desarrollo original, pero el problema de 1 input lo hace inviable"
   ]
  },
  {
   "cell_type": "code",
   "execution_count": null,
   "metadata": {},
   "outputs": [],
   "source": [
    "import tensorflow as tf\n",
    "from tensorflow.keras import layers, optimizers\n",
    "\n",
    "class VanderPolModel(tf.keras.Model):\n",
    "    \"\"\"Modelo de vanderPol, toma la input de tiempo\"\"\"\n",
    "    def __init__(self, activation=\"tanh\",**kwargs):\n",
    "        super().__init__(**kwargs)\n",
    "        self.hidden1 = layers.Dense(64, activation=activation)\n",
    "        self.hidden2 = layers.Dense(64, activation=activation)\n",
    "        self.hidden3 = layers.Dense(64, activation=activation)\n",
    "        self.hidden4 = layers.Dense(64, activation=activation)\n",
    "        self.position = layers.Dense(1, activation=activation)\n",
    "\n",
    "    def call(self, inputs):\n",
    "        z = self.hidden1(inputs)\n",
    "        z = self.hidden2(z)\n",
    "        z = self.hidden3(z)\n",
    "        z = self.hidden4(z)\n",
    "        x = self.position(z)\n",
    "        return x"
   ]
  },
  {
   "cell_type": "code",
   "execution_count": null,
   "metadata": {},
   "outputs": [],
   "source": [
    "# La entrada es fija\n",
    "t = tf.range(300, dtype=tf.float32)\n",
    "# Copiar el tensor horizontalmente\n",
    "t_matrix = tf.tile(tf.expand_dims(t, axis=0), [300, 1])\n",
    "\n",
    "# Ver la forma del tensor resultante\n",
    "print(t_matrix)"
   ]
  },
  {
   "cell_type": "markdown",
   "metadata": {},
   "source": [
    "$$\n",
    "\\frac{d^2 x}{dt^2} - \\mu(1-x^2) \\frac{dx}{dt} +x = 0\n",
    "$$"
   ]
  },
  {
   "cell_type": "code",
   "execution_count": null,
   "metadata": {},
   "outputs": [],
   "source": [
    "def physics_loss(model, inputs, X_target, P_target, mu=2.0, position_weight=10, momentum_weight=5):\n",
    "    inputs= tf.expand_dims(inputs, axis=-1)  # Expandir dimensiones\n",
    "\n",
    "    with tf.GradientTape(persistent=True) as tape:\n",
    "        tape.watch(inputs)\n",
    "        X_predicted = model(inputs)\n",
    "        dx_dt = tape.gradient(X_predicted, inputs)\n",
    "        d2x_dt2 = tape.gradient(dx_dt, inputs)\n",
    "\n",
    "    f = d2x_dt2 - mu * (1 - tf.square(X_predicted)) * dx_dt + X_predicted\n",
    "\n",
    "    # Calcular la pérdida\n",
    "    loss = tf.reduce_mean(tf.square(f))\n",
    "    loss += position_weight*tf.reduce_mean(tf.square(X_target[:,0] - X_predicted[:,0]))\n",
    "    loss += momentum_weight*tf.reduce_mean(tf.square(P_target[:,0] - dx_dt[:,0]))\n",
    "\n",
    "    return loss\n",
    "\n",
    "\n",
    "model = VanderPolModel()\n",
    "inputs = t_matrix[:210]\n",
    "loss = physics_loss(model, inputs, X_train, P_test)\n",
    "\n",
    "print(\"Perdida Escalar:\", loss)"
   ]
  },
  {
   "cell_type": "code",
   "execution_count": null,
   "metadata": {},
   "outputs": [],
   "source": [
    "# Definir el modelo y el optimizador\n",
    "model = VanderPolModel()\n",
    "optimizer = optimizers.Adam(learning_rate=0.001)\n",
    "\n",
    "# Número de épocas y tamaño del lote\n",
    "epochs = 100\n",
    "batch_size = 32\n",
    "\n",
    "# Bucle de entrenamiento\n",
    "for epoch in range(epochs):\n",
    "    # Mezclar y dividir los datos en lotes\n",
    "    indices = tf.range(210)  # Asegúrate de tener el rango correcto\n",
    "    tf.random.shuffle(indices)\n",
    "    for i in range(0, len(indices), batch_size):\n",
    "        batch_indices = indices[i : i + batch_size]\n",
    "        inputs_batch = tf.gather(inputs, batch_indices)\n",
    "        X_train_batch = tf.gather(X_train, batch_indices)\n",
    "        P_train_batch = tf.gather(P_train, batch_indices)\n",
    "\n",
    "        # Calcular la pérdida y los gradientes\n",
    "        with tf.GradientTape() as tape:\n",
    "            loss = physics_loss(model, inputs_batch, X_train_batch, P_train_batch)\n",
    "        gradients = tape.gradient(loss, model.trainable_variables)\n",
    "\n",
    "        # Aplicar los gradientes usando el optimizador\n",
    "        optimizer.apply_gradients(zip(gradients, model.trainable_variables))\n",
    "\n",
    "    # Imprimir la pérdida al final de cada época\n",
    "    if (epoch + 1) % 10 == 0:\n",
    "        print(f\"Época {epoch + 1}/{epochs}, Pérdida: {loss.numpy()}\")\n",
    "\n",
    "# Verificar la pérdida final\n",
    "final_loss = physics_loss(model, inputs, X_train, P_train)\n",
    "print(\"Pérdida final:\", final_loss.numpy())\n"
   ]
  },
  {
   "cell_type": "code",
   "execution_count": null,
   "metadata": {},
   "outputs": [],
   "source": [
    "import tensorflow as tf\n",
    "\n",
    "model = tf.keras.models.Sequential([\n",
    "    tf.keras.layers.Dense(64, activation=tf.nn.tanh, input_shape=(1,)),  # Input layer (time)\n",
    "    tf.keras.layers.Dense(64, activation=tf.nn.tanh),\n",
    "    tf.keras.layers.Dense(64, activation=tf.nn.tanh),\n",
    "    tf.keras.layers.Dense(64, activation=tf.nn.tanh),\n",
    "    tf.keras.layers.Dense(1) # output position\n",
    "])\n",
    "\n",
    "def initial_value_loss(y_true, y_pred):\n",
    "    # Condición de borde\n",
    "    return tf.square(y_true[0] - y_pred[0])\n",
    "\n",
    "def point_loss(y_true, y_pred):\n",
    "    # Loss function for every point\n",
    "    return tf.reduce_mean(tf.square(y_true - y_pred))\n",
    "\n",
    "# Compile the model\n",
    "model.compile(optimizer='adam', loss=[initial_value_loss, point_loss])"
   ]
  },
  {
   "cell_type": "code",
   "execution_count": null,
   "metadata": {},
   "outputs": [],
   "source": [
    "x_pred = next(iter(train_data.take(1)))[0,:]\n",
    "v_pred = next(iter(train_data.take(1)))[1,:]"
   ]
  },
  {
   "cell_type": "code",
   "execution_count": null,
   "metadata": {},
   "outputs": [],
   "source": [
    "x_pred.shape"
   ]
  },
  {
   "cell_type": "code",
   "execution_count": null,
   "metadata": {},
   "outputs": [],
   "source": [
    "# Train the model\n",
    "history = model.fit(train_data, validation_data=val_data, epochs=100)"
   ]
  },
  {
   "cell_type": "markdown",
   "metadata": {},
   "source": [
    "# un optimizador"
   ]
  },
  {
   "cell_type": "markdown",
   "metadata": {},
   "source": []
  },
  {
   "cell_type": "code",
   "execution_count": null,
   "metadata": {},
   "outputs": [],
   "source": [
    "import tensorflow as tf\n",
    "from sklearn.model_selection import train_test_split\n",
    "import keras_tuner\n",
    "\n",
    "# Supongamos que tus datos están en el tensor 'trayectorias'\n",
    "trayectorias\n",
    "\n",
    "# Separa tus datos en conjuntos de entrenamiento, validación y prueba\n",
    "train_data, test_data = train_test_split(trayectorias, test_size=0.2, random_state=42)\n",
    "train_data, val_data = train_test_split(train_data, test_size=0.25, random_state=42)\n",
    "\n",
    "def build_model(hp):\n",
    "    # aqui va la construccion del modelo\n",
    "    model = tf.keras.models.Sequential()\n",
    "    \n",
    "    # Añade tus capas aquí. Por ejemplo:\n",
    "    model.add(tf.keras.layers.Dense(units=hp.Int('units', min_value=32, max_value=512, step=32), activation='relu'))\n",
    "    model.add(tf.keras.layers.Dense(1))  # una sola salida para predecir la posición\n",
    "\n",
    "    # Ajusta los hiperparámetros del optimizador Adam\n",
    "    hp_learning_rate = hp.Choice('learning_rate', values=[1e-2, 1e-3, 1e-4])\n",
    "    hp_beta_1 = hp.Float('beta_1', min_value=0.85, max_value=0.95, step=0.01)\n",
    "    hp_beta_2 = hp.Float('beta_2', min_value=0.98, max_value=0.999, step=0.001)\n",
    "\n",
    "    model.compile(optimizer=tf.keras.optimizers.Adam(learning_rate=hp_learning_rate, beta_1=hp_beta_1, beta_2=hp_beta_2),\n",
    "                loss=tf.keras.losses.MeanSquaredError(),  # usa MSE para la regresión\n",
    "                metrics=['mse'])\n",
    "\n",
    "    return model\n",
    "\n",
    "tuner = RandomSearch(\n",
    "    build_model,\n",
    "    objective='mse',  # minimiza el error cuadrático medio\n",
    "    max_trials=5,\n",
    "    executions_per_trial=3)\n",
    "\n",
    "tuner.search(train_data, epochs=60, validation_data=val_data)\n",
    "\n",
    "# Obtén los hiperparámetros óptimos\n",
    "best_hps=tuner.get_best_hyperparameters(num_trials=1)[0]\n",
    "\n",
    "print(f\"La tasa de aprendizaje óptima para el optimizador es {best_hps.get('learning_rate')}.\")\n",
    "print(f\"El beta_1 óptimo para el optimizador es {best_hps.get('beta_1')}.\")\n",
    "print(f\"El beta_2 óptimo para el optimizador es {best_hps.get('beta_2')}.\")\n"
   ]
  },
  {
   "cell_type": "markdown",
   "metadata": {},
   "source": [
    "## Alternativa"
   ]
  },
  {
   "cell_type": "code",
   "execution_count": 1,
   "metadata": {},
   "outputs": [],
   "source": [
    "import tensorflow as tf\n",
    "import numpy as np\n",
    "import matplotlib.pyplot as plt"
   ]
  },
  {
   "cell_type": "markdown",
   "metadata": {},
   "source": [
    "### Paso 1: Implementar el modelo"
   ]
  },
  {
   "cell_type": "code",
   "execution_count": 9,
   "metadata": {},
   "outputs": [],
   "source": [
    "def create_model():\n",
    "    model = tf.keras.Sequential([\n",
    "        tf.keras.layers.InputLayer(input_shape=(1,)),  # 1 neurona de entrada\n",
    "        tf.keras.layers.Dense(64, activation='tanh'),\n",
    "        tf.keras.layers.Dense(64, activation='tanh'),\n",
    "        tf.keras.layers.Dense(64, activation='tanh'),\n",
    "        tf.keras.layers.Dense(64, activation='tanh'),\n",
    "        tf.keras.layers.Dense(1)  # 1 neurona de salida\n",
    "    ])\n",
    "    return model"
   ]
  },
  {
   "cell_type": "code",
   "execution_count": null,
   "metadata": {},
   "outputs": [],
   "source": [
    "# Función de Van der Pol unidimensional\n",
    "def van_der_pol(x, mu):\n",
    "    dxdt = mu * (1 - x**2) * x\n",
    "    return dxdt"
   ]
  },
  {
   "cell_type": "code",
   "execution_count": 10,
   "metadata": {},
   "outputs": [],
   "source": [
    "def custom_loss(y_true, y_pred):\n",
    "    # Pérdida de la ecuación de Van der Pol\n",
    "    t_values = tf.range(0, tf.shape(y_true)[0])  # Secuencia de tiempo\n",
    "    loss_van_der_pol = tf.reduce_mean(tf.square(y_true - y_pred - h * van_der_pol(y_pred, mu)))\n",
    "    \n",
    "    # Pérdida de la condición inicial\n",
    "    loss_initial_condition = tf.reduce_sum(tf.square(y_true[0, 0] - y_pred[0, 0]))\n",
    "    \n",
    "    # Peso para equilibrar ambas pérdidas\n",
    "    alpha = 0.1\n",
    "    \n",
    "    # Pérdida total\n",
    "    loss = loss_van_der_pol + alpha * loss_initial_condition\n",
    "    \n",
    "    return loss\n"
   ]
  },
  {
   "cell_type": "code",
   "execution_count": 11,
   "metadata": {},
   "outputs": [],
   "source": [
    "# Parámetros\n",
    "mu = 2.0\n",
    "h = 0.01  # Tamaño del paso\n",
    "num_samples = 1000"
   ]
  },
  {
   "cell_type": "code",
   "execution_count": 12,
   "metadata": {},
   "outputs": [],
   "source": [
    "# Generar datos de entrenamiento\n",
    "initial_condition = np.array([[1.0]])\n",
    "initial_condition = np.expand_dims(initial_condition, axis=-1)\n",
    "\n",
    "y_train_input = np.zeros((num_samples, 1, 1))  # Entrada\n",
    "y_train_output = np.concatenate([initial_condition, np.zeros((num_samples - 1, 1, 1))], axis=0)  # Salida\n"
   ]
  },
  {
   "cell_type": "code",
   "execution_count": 13,
   "metadata": {},
   "outputs": [
    {
     "data": {
      "text/plain": [
       "<keras.src.callbacks.History at 0x15e0e48d310>"
      ]
     },
     "execution_count": 13,
     "metadata": {},
     "output_type": "execute_result"
    }
   ],
   "source": [
    "# Crear y entrenar el modelo\n",
    "model = create_model()\n",
    "model.compile(optimizer='adam', loss=custom_loss)\n",
    "model.fit(y_train_input, y_train_output, epochs=100, verbose=0)"
   ]
  },
  {
   "cell_type": "code",
   "execution_count": 14,
   "metadata": {},
   "outputs": [
    {
     "name": "stdout",
     "output_type": "stream",
     "text": [
      "32/32 [==============================] - 0s 933us/step\n"
     ]
    },
    {
     "data": {
      "image/png": "[encoded data removed]",
      "text/plain": [
       "<Figure size 1000x500 with 1 Axes>"
      ]
     },
     "metadata": {},
     "output_type": "display_data"
    }
   ],
   "source": [
    "# Resolver la ecuación diferencial usando el modelo entrenado\n",
    "solution = model.predict(y_train_input)\n",
    "\n",
    "# Visualizar la solución en el espacio de fase\n",
    "plt.figure(figsize=(10, 5))\n",
    "plt.plot(solution[:, 0], van_der_pol(solution[:, 0], mu), label='Solución')\n",
    "plt.title('Espacio de Fase para el Oscilador de Van der Pol')\n",
    "plt.xlabel('Posición (x)')\n",
    "plt.ylabel('Velocidad (dx/dt)')\n",
    "plt.legend()\n",
    "plt.show()"
   ]
  },
  {
   "cell_type": "code",
   "execution_count": null,
   "metadata": {},
   "outputs": [],
   "source": []
  }
 ],
 "metadata": {
  "kernelspec": {
   "display_name": "tf23",
   "language": "python",
   "name": "python3"
  },
  "language_info": {
   "codemirror_mode": {
    "name": "ipython",
    "version": 3
   },
   "file_extension": ".py",
   "mimetype": "text/x-python",
   "name": "python",
   "nbconvert_exporter": "python",
   "pygments_lexer": "ipython3",
   "version": "3.11.6"
  },
  "orig_nbformat": 4
 },
 "nbformat": 4,
 "nbformat_minor": 2
}
