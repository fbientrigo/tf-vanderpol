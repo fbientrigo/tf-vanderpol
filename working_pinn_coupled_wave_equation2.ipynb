{
 "cells": [
  {
   "cell_type": "code",
   "execution_count": 1,
   "id": "a1ac8ff7",
   "metadata": {},
   "outputs": [
    {
     "name": "stdout",
     "output_type": "stream",
     "text": [
      "Populating the interactive namespace from numpy and matplotlib\n"
     ]
    }
   ],
   "source": [
    "%pylab inline"
   ]
  },
  {
   "cell_type": "code",
   "execution_count": 2,
   "id": "03fa61ea",
   "metadata": {},
   "outputs": [],
   "source": [
    "import os\n",
    "import numpy as np\n",
    "import scipy.io\n",
    "from pyDOE import lhs\n",
    "import tensorflow as tf\n",
    "import sympy\n",
    "from sympy.parsing.sympy_parser import parse_expr\n",
    "import keras"
   ]
  },
  {
   "cell_type": "code",
   "execution_count": 3,
   "id": "bb521303",
   "metadata": {},
   "outputs": [],
   "source": [
    "@tf.function\n",
    "@tf.autograph.experimental.do_not_convert\n",
    "def dirichlet(model, X, u):\n",
    "    u_pred = model(X, training=True)\n",
    "    return u - u_pred\n",
    "\n",
    "@tf.function\n",
    "@tf.autograph.experimental.do_not_convert\n",
    "def neumann(model, X, f): #Currently only for 1D\n",
    "    u = model(X, training=True)\n",
    "    u_X = tf.gradients(u, X)[0]\n",
    "    \n",
    "    return u_X[:, 1:2] - f\n",
    "\n",
    "@tf.function\n",
    "@tf.autograph.experimental.do_not_convert\n",
    "def periodic(model, X, f): # Currently for only 1D\n",
    "    t = X[:, 0:1]\n",
    "    x = X[:, 1:2]\n",
    "    n = int(X.shape[0]/2)\n",
    "    u =  model(tf.concat([t, x], 1), training=True)\n",
    "    u_x = tf.gradients(u, x)[0]\n",
    "    \n",
    "    return (u[:n] - u[n:]) + (u_x[:n] - u_x[:n])"
   ]
  },
  {
   "cell_type": "code",
   "execution_count": 4,
   "id": "484c7fd8",
   "metadata": {},
   "outputs": [],
   "source": [
    "def domain_sampler(N, lb, ub):\n",
    "    lb = np.asarray(lb)\n",
    "    ub = np.asarray(ub)\n",
    "    X_f = lb + (ub-lb)*lhs(2, N)\n",
    "    return X_f\n",
    "\n",
    "def boundary_sampler(N, lb, ub):\n",
    "    lb = np.asarray(lb)\n",
    "    ub = np.asarray(ub)\n",
    "    N_2 = int(N/2)\n",
    "    X_b = lb + (ub-lb)*lhs(2, N)\n",
    "    X_b[0:N_2, 1] = lb[1]\n",
    "    X_b[N_2:2*N_2, 1] = ub[1]\n",
    "    return X_b\n",
    "\n",
    "def initial_sampler(N, lb, ub):\n",
    "    lb = np.asarray(lb)\n",
    "    ub = np.asarray(ub)\n",
    "    X_i = lb + (ub-lb)*lhs(2, N)\n",
    "    X_i[:, 0] = np.zeros(N)\n",
    "    return X_i"
   ]
  },
  {
   "cell_type": "code",
   "execution_count": 5,
   "id": "ecb1d88b",
   "metadata": {},
   "outputs": [],
   "source": [
    "def initialize_NN(layers):\n",
    "    inputs =  keras.Input(shape=(layers[0],))\n",
    "    x = inputs\n",
    "    for ii in range(1, len(layers) - 1):\n",
    "        x = keras.layers.Dense(units = layers[ii], activation=tf.tanh,\n",
    "                                kernel_initializer = tf.keras.initializers.GlorotUniform())(x)\n",
    "    outputs = keras.layers.Dense(units = layers[-1],\n",
    "        activation = None,\n",
    "        kernel_initializer = tf.keras.initializers.GlorotUniform()\n",
    "    )(x)\n",
    "    model = keras.Model(inputs, outputs)\n",
    "    return model"
   ]
  },
  {
   "cell_type": "code",
   "execution_count": 6,
   "id": "b2dad190",
   "metadata": {},
   "outputs": [],
   "source": [
    "@tf.function\n",
    "@tf.autograph.experimental.do_not_convert\n",
    "def pde(model, X):\n",
    "        \n",
    "    t = X[:, 0:1]\n",
    "    x = X[:, 1:2]\n",
    "    U = model(tf.concat([t,x], 1), training=True)\n",
    "    u = U[:, 0:1]\n",
    "    v = U[:, 1:2]\n",
    "    \n",
    "    u_x = tf.gradients(u, x)[0]\n",
    "    u_t = tf.gradients(u, t)[0]\n",
    "    \n",
    "    v_x = tf.gradients(v, x)[0]\n",
    "    v_t = tf.gradients(v, t)[0]\n",
    "    \n",
    "    return (u_t + u_x - v, v_t - v_x)"
   ]
  },
  {
   "cell_type": "code",
   "execution_count": 7,
   "id": "2bbef8ef",
   "metadata": {},
   "outputs": [],
   "source": [
    "@tf.function\n",
    "@tf.autograph.experimental.do_not_convert\n",
    "def ic_func(model, X, u_i, v_i):\n",
    "    f_pred = model(X, training=True)\n",
    "    u = f_pred[:, 0:1]\n",
    "    v = f_pred[:, 1:2]\n",
    "    ic_loss_u = u - u_i\n",
    "    ic_loss_v = v - v_i\n",
    "    return ic_loss_u, ic_loss_v\n",
    "    \n",
    "@tf.function\n",
    "@tf.autograph.experimental.do_not_convert\n",
    "def bc_func(model, X, u_i, v_i):\n",
    "    f_pred = model(X, training=True)\n",
    "    u = f_pred[:, 0:1]\n",
    "    v = f_pred[:, 1:2]\n",
    "    bc_loss_u = u - u_i\n",
    "    bc_loss_v = v - v_i\n",
    "    return bc_loss_u, bc_loss_v\n",
    "\n",
    "@tf.function\n",
    "@tf.autograph.experimental.do_not_convert\n",
    "def pde_func(model, X):\n",
    "    pde_loss_u, pde_loss_v = pde(model, X)\n",
    "    return pde_loss_u, pde_loss_v\n",
    "    \n",
    "def callback_GD(it, init_time, loss_value):\n",
    "    elapsed = time.time() - init_time\n",
    "    if (it % 1000 == 0):\n",
    "        print('GD.  It: %d, Loss: %.3e, Time: %.2f' % \n",
    "              (it, loss_value, elapsed))\n",
    "        \n",
    "def loss_func(model, X_i, u_i, v_i, X_b, u_b, v_b, X_f):\n",
    "        \n",
    "    initial_loss_u, initial_loss_v = ic_func(model, X_i, u_i, v_i)\n",
    "    boundary_loss_u, boundary_loss_v = bc_func(model, X_b, u_b, v_b)\n",
    "    domain_loss_u, domain_loss_v = pde_func(model, X_f)\n",
    "                \n",
    "    return tf.reduce_mean(tf.square(initial_loss_u)) + \\\n",
    "           tf.reduce_mean(tf.square(boundary_loss_u)) + \\\n",
    "           tf.reduce_mean(tf.square(domain_loss_u)) + \\\n",
    "           tf.reduce_mean(tf.square(initial_loss_v)) + \\\n",
    "           tf.reduce_mean(tf.square(boundary_loss_v)) + \\\n",
    "           tf.reduce_mean(tf.square(domain_loss_v))\n",
    "        \n",
    "@tf.function\n",
    "@tf.autograph.experimental.do_not_convert\n",
    "def loss_and_gradients(model, X_i, u_i, v_i, X_b, u_b, v_b, X_f):\n",
    "\n",
    "    ## Two separate Gradient Tapes are not necessary... seems \"persistent\" might\n",
    "    ## do the job\n",
    "    with tf.GradientTape() as tape:\n",
    "        model_loss=loss_func(model, X_i, u_i, v_i, X_b, u_b, v_b, X_f)\n",
    "    model_gradients = tape.gradient(model_loss, model.trainable_weights)\n",
    "\n",
    "    return model_loss, model_gradients\n",
    "        \n",
    "def train(model, train_config, train_data):\n",
    "    start_time = time.time()\n",
    "    \n",
    "    if (train_config['Optimizer'] == 'adam'):\n",
    "        optimizer = tf.keras.optimizers.Adam(train_config['learning_rate']) #Passing learning rate to optimizer\n",
    "    else:\n",
    "        print(\"Unknown optimizer\")\n",
    "        exit()\n",
    "    nIter = train_config['Iterations']\n",
    "        \n",
    "        \n",
    "    X_i = train_data['X_i']\n",
    "    u_i = train_data['u_i']\n",
    "    v_i = train_data['v_i']\n",
    "    X_b = train_data['X_b']\n",
    "    u_b = train_data['u_b']\n",
    "    v_b = train_data['v_b']\n",
    "    X_f = train_data['X_f']\n",
    "\n",
    "    init_time = time.time()\n",
    "            \n",
    "    #losses = np.zeros(nIter)\n",
    "    for it in range(nIter):\n",
    "                \n",
    "        model_loss, model_gradients = loss_and_gradients(model, X_i, u_i, v_i, X_b, u_b, v_b, X_f)\n",
    "        optimizer.apply_gradients(zip(model_gradients, model.trainable_weights))\n",
    "                \n",
    "        if it%10 == 0:\n",
    "            callback_GD(it, init_time, model_loss)\n",
    "            #losses[it] = model_loss\n",
    "                    \n",
    "    end_time = time.time() - start_time \n",
    "    #return losses"
   ]
  },
  {
   "cell_type": "code",
   "execution_count": 8,
   "id": "41b17e9c",
   "metadata": {},
   "outputs": [],
   "source": [
    "#Layers in the neural network. First value is number of input neurons, last is output\n",
    "layers = [2, 64, 64, 64, 64, 2]"
   ]
  },
  {
   "cell_type": "code",
   "execution_count": 9,
   "id": "e11c8710",
   "metadata": {},
   "outputs": [
    {
     "name": "stderr",
     "output_type": "stream",
     "text": [
      "2022-12-14 14:37:21.635742: I tensorflow/core/platform/cpu_feature_guard.cc:193] This TensorFlow binary is optimized with oneAPI Deep Neural Network Library (oneDNN) to use the following CPU instructions in performance-critical operations:  SSE4.1 SSE4.2 AVX AVX2 AVX512F FMA\n",
      "To enable them in other operations, rebuild TensorFlow with the appropriate compiler flags.\n"
     ]
    }
   ],
   "source": [
    "model = initialize_NN(layers)"
   ]
  },
  {
   "cell_type": "code",
   "execution_count": 10,
   "id": "5132ac47",
   "metadata": {},
   "outputs": [],
   "source": [
    "N_f = 5000 # Domain points\n",
    "N_i = 400 # Randomly sampled points from IC vector\n",
    "N_b = 100 # Randomly sampled BC points"
   ]
  },
  {
   "cell_type": "code",
   "execution_count": 11,
   "id": "40a86b57",
   "metadata": {},
   "outputs": [],
   "source": [
    "dt = 0.1\n",
    "t_initial = 0.0\n",
    "t_final = 10.0\n",
    "\n",
    "t = np.arange(t_initial,t_final+dt,dt)[:,None] #Column vector"
   ]
  },
  {
   "cell_type": "code",
   "execution_count": 12,
   "id": "a150a887",
   "metadata": {},
   "outputs": [],
   "source": [
    "dx = 0.0625\n",
    "x_lb = -16.0\n",
    "x_ub = 16.0\n",
    "\n",
    "x = np.arange(x_lb,x_ub,dx)[:,None] #Column vector"
   ]
  },
  {
   "cell_type": "code",
   "execution_count": 13,
   "id": "df4ddc81",
   "metadata": {},
   "outputs": [],
   "source": [
    "X, T = np.meshgrid(x,t)"
   ]
  },
  {
   "cell_type": "code",
   "execution_count": 14,
   "id": "a27daa6f",
   "metadata": {},
   "outputs": [],
   "source": [
    "#X_star is a 2-column array, with the first column being time, second being x\n",
    "#First set of values are: t=0, all values of x\n",
    "#Then: t=0.1, all values of x, etc.\n",
    "X_star = np.hstack((T.flatten()[:,None], X.flatten()[:,None]))"
   ]
  },
  {
   "cell_type": "code",
   "execution_count": 15,
   "id": "25e25fbc",
   "metadata": {},
   "outputs": [
    {
     "data": {
      "text/plain": [
       "(51712, 2)"
      ]
     },
     "execution_count": 15,
     "metadata": {},
     "output_type": "execute_result"
    }
   ],
   "source": [
    "X_star.shape"
   ]
  },
  {
   "cell_type": "code",
   "execution_count": 16,
   "id": "353db3f0",
   "metadata": {},
   "outputs": [],
   "source": [
    "lb = X_star.min(0) \n",
    "ub = X_star.max(0)"
   ]
  },
  {
   "cell_type": "code",
   "execution_count": 17,
   "id": "ac7ee15b",
   "metadata": {},
   "outputs": [],
   "source": [
    "#X_i is the initial data, t=0, all values of x\n",
    "X_i = np.hstack((T[0:1,:].T, X[0:1,:].T))"
   ]
  },
  {
   "cell_type": "code",
   "execution_count": 18,
   "id": "6339e15b",
   "metadata": {},
   "outputs": [],
   "source": [
    "dt = 0.0001\n",
    "X_i_dt = np.copy(X_i)\n",
    "X_i_dt[:,0] += dt"
   ]
  },
  {
   "cell_type": "code",
   "execution_count": 19,
   "id": "abdaa921",
   "metadata": {},
   "outputs": [],
   "source": [
    "def define_initial_condition(x,mu,sigma):\n",
    "    return (1.0/(sigma*np.sqrt(2.0*np.pi)))*np.exp(-0.5*((x - mu)/sigma)**2)"
   ]
  },
  {
   "cell_type": "code",
   "execution_count": 20,
   "id": "5f20780a",
   "metadata": {},
   "outputs": [],
   "source": [
    "u_i = 0.5*define_initial_condition(x,5.0,0.5)\n",
    "v_i = 0.5*define_initial_condition(x,-5.0,0.5)\n",
    "#u_i = zeros(len(v_i))[:, None]"
   ]
  },
  {
   "cell_type": "code",
   "execution_count": 21,
   "id": "9838c89b-aa67-4e1a-8f73-74c51542f6f1",
   "metadata": {},
   "outputs": [
    {
     "data": {
      "text/plain": [
       "(512, 1)"
      ]
     },
     "execution_count": 21,
     "metadata": {},
     "output_type": "execute_result"
    }
   ],
   "source": [
    "u_i.shape"
   ]
  },
  {
   "cell_type": "code",
   "execution_count": 22,
   "id": "4f167bc1",
   "metadata": {},
   "outputs": [
    {
     "data": {
      "text/plain": [
       "[<matplotlib.lines.Line2D at 0x7f704c691c40>]"
      ]
     },
     "execution_count": 22,
     "metadata": {},
     "output_type": "execute_result"
    },
    {
     "data": {
      "image/png": "[encoded data removed]",
      "text/plain": [
       "<Figure size 640x480 with 1 Axes>"
      ]
     },
     "metadata": {},
     "output_type": "display_data"
    }
   ],
   "source": [
    "plot(x,u_i)\n",
    "plot(x,v_i)"
   ]
  },
  {
   "cell_type": "code",
   "execution_count": 23,
   "id": "2dc6cf12",
   "metadata": {},
   "outputs": [
    {
     "data": {
      "text/plain": [
       "(512, 1)"
      ]
     },
     "execution_count": 23,
     "metadata": {},
     "output_type": "execute_result"
    }
   ],
   "source": [
    "u_i.shape"
   ]
  },
  {
   "cell_type": "code",
   "execution_count": 24,
   "id": "a8ed682b",
   "metadata": {},
   "outputs": [],
   "source": [
    "#X_lb is lower bound of domain, i.e. minimum value of x for all times\n",
    "#X_ub is upper bound of domain, i.e. maximum value of x for all times\n",
    "X_lb = np.hstack((T[:,0:1], X[:,0:1])) \n",
    "X_ub = np.hstack((T[:,-1:], X[:,-1:])) "
   ]
  },
  {
   "cell_type": "code",
   "execution_count": 25,
   "id": "e1bbee3d",
   "metadata": {},
   "outputs": [],
   "source": [
    "#Values of u field at lower and upper bounds (just set to zero)\n",
    "u_lb = np.zeros((len(X[:,0:1]),1))\n",
    "u_ub = np.zeros((len(X[:,-1:]),1))"
   ]
  },
  {
   "cell_type": "code",
   "execution_count": 26,
   "id": "ea4046c6",
   "metadata": {},
   "outputs": [],
   "source": [
    "X_b = np.vstack((X_lb, X_ub))\n",
    "u_b = np.vstack((u_lb, u_ub))\n",
    "v_b = u_b.copy()"
   ]
  },
  {
   "cell_type": "code",
   "execution_count": 27,
   "id": "542c903c",
   "metadata": {},
   "outputs": [],
   "source": [
    "X_f = domain_sampler(N_f, lb, ub)"
   ]
  },
  {
   "cell_type": "code",
   "execution_count": 28,
   "id": "1c4d8c7a",
   "metadata": {},
   "outputs": [],
   "source": [
    "idx = np.random.choice(X_i.shape[0], N_i, replace=False)\n",
    "X_i = X_i[idx, :]\n",
    "u_i = u_i[idx, :]\n",
    "v_i = v_i[idx, :]"
   ]
  },
  {
   "cell_type": "code",
   "execution_count": 29,
   "id": "d7e1c9ff",
   "metadata": {},
   "outputs": [],
   "source": [
    "idx = np.random.choice(X_b.shape[0], N_b, replace=False)\n",
    "X_b = X_b[idx, :] \n",
    "u_b = u_b[idx, :]\n",
    "v_b = v_b[idx, :]"
   ]
  },
  {
   "cell_type": "code",
   "execution_count": 30,
   "id": "5c360cdc",
   "metadata": {},
   "outputs": [],
   "source": [
    "training_data = {'X_i': X_i.astype('float32'), 'u_i': u_i.astype('float32'), 'v_i': v_i.astype('float32'),\n",
    "                 'X_b': X_b.astype('float32'), 'u_b': u_b.astype('float32'), 'v_b': v_b.astype('float32'),\n",
    "                 'X_f': X_f.astype('float32')}"
   ]
  },
  {
   "cell_type": "code",
   "execution_count": 31,
   "id": "9b9bb893",
   "metadata": {},
   "outputs": [],
   "source": [
    "train_config = {'Optimizer': 'adam',\n",
    "                 'learning_rate': 0.001, \n",
    "                 'Iterations' : 10000}"
   ]
  },
  {
   "cell_type": "code",
   "execution_count": 32,
   "id": "abaa69c7",
   "metadata": {},
   "outputs": [
    {
     "name": "stdout",
     "output_type": "stream",
     "text": [
      "GD.  It: 0, Loss: 6.152e-01, Time: 1.28\n",
      "GD.  It: 1000, Loss: 5.174e-03, Time: 38.72\n",
      "GD.  It: 2000, Loss: 4.502e-03, Time: 75.57\n",
      "GD.  It: 3000, Loss: 3.630e-03, Time: 112.97\n",
      "GD.  It: 4000, Loss: 2.893e-03, Time: 149.32\n",
      "GD.  It: 5000, Loss: 5.282e-04, Time: 185.41\n",
      "GD.  It: 6000, Loss: 1.706e-04, Time: 221.30\n",
      "GD.  It: 7000, Loss: 1.015e-04, Time: 257.67\n",
      "GD.  It: 8000, Loss: 7.549e-05, Time: 295.04\n",
      "GD.  It: 9000, Loss: 5.954e-05, Time: 331.84\n"
     ]
    }
   ],
   "source": [
    "time_GD = train(model, train_config, training_data)"
   ]
  },
  {
   "cell_type": "code",
   "execution_count": 33,
   "id": "d2adb76b",
   "metadata": {},
   "outputs": [],
   "source": [
    "u_pred = model(X_star).numpy()[:,0]"
   ]
  },
  {
   "cell_type": "code",
   "execution_count": 34,
   "id": "697c4789",
   "metadata": {},
   "outputs": [],
   "source": [
    "v_pred = model(X_star).numpy()[:,1]"
   ]
  },
  {
   "cell_type": "code",
   "execution_count": 35,
   "id": "eaaf40d6",
   "metadata": {},
   "outputs": [],
   "source": [
    "u_pred = np.reshape(u_pred, (t.shape[0], x.shape[0]))\n",
    "v_pred = np.reshape(v_pred, (t.shape[0], x.shape[0]))"
   ]
  },
  {
   "cell_type": "code",
   "execution_count": 36,
   "id": "736f0be0-57db-475d-b8ef-4baf6a4b1917",
   "metadata": {},
   "outputs": [
    {
     "data": {
      "text/plain": [
       "<Figure size 640x480 with 0 Axes>"
      ]
     },
     "metadata": {},
     "output_type": "display_data"
    }
   ],
   "source": [
    "filenames = []\n",
    "for ii in range(len(t)):\n",
    "    #plt.plot(Exact[ii], c= actual_col, label = \"Actual\")\n",
    "    axis([-32.0,32.0,0.0,1.0])\n",
    "    plt.plot(x,u_pred[ii])\n",
    "    filenames.append(\"advection_\"+str(ii).zfill(5)+\".png\")\n",
    "    plt.savefig(filenames[-1])\n",
    "    plt.clf()"
   ]
  },
  {
   "cell_type": "code",
   "execution_count": 37,
   "id": "4650a880-8c8b-4f3c-a68c-16ee3898d542",
   "metadata": {},
   "outputs": [],
   "source": [
    "import imageio\n",
    "with imageio.get_writer('movie.gif', mode='I') as writer:\n",
    "    for filename in filenames:\n",
    "        image = imageio.v2.imread(filename)\n",
    "        writer.append_data(image)"
   ]
  },
  {
   "cell_type": "code",
   "execution_count": 38,
   "id": "48a890af-4174-4eae-aede-31aa20b3771b",
   "metadata": {},
   "outputs": [],
   "source": [
    "for filename in set(filenames):\n",
    "    os.remove(filename)"
   ]
  },
  {
   "cell_type": "code",
   "execution_count": 39,
   "id": "2798c656-11e8-489b-804c-5780d7303e66",
   "metadata": {},
   "outputs": [],
   "source": [
    "os.remove('movie.gif')"
   ]
  },
  {
   "cell_type": "code",
   "execution_count": null,
   "id": "607de9f0",
   "metadata": {},
   "outputs": [],
   "source": []
  }
 ],
 "metadata": {
  "kernelspec": {
   "display_name": "default:Python",
   "language": "python",
   "name": "conda-env-default-py"
  },
  "language_info": {
   "codemirror_mode": {
    "name": "ipython",
    "version": 3
   },
   "file_extension": ".py",
   "mimetype": "text/x-python",
   "name": "python",
   "nbconvert_exporter": "python",
   "pygments_lexer": "ipython3",
   "version": "3.9.13"
  }
 },
 "nbformat": 4,
 "nbformat_minor": 5
}
